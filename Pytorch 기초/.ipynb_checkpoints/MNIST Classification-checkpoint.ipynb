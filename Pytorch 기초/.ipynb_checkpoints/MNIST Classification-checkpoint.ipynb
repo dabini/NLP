{
 "cells": [
  {
   "cell_type": "code",
   "execution_count": 1,
   "metadata": {},
   "outputs": [],
   "source": [
    "import torch\n",
    "import torch.nn as nn"
   ]
  },
  {
   "cell_type": "code",
   "execution_count": 2,
   "metadata": {},
   "outputs": [],
   "source": [
    "#models.py\n",
    "\n",
    "class ImageClassifier(nn.Module): #imageClassifier에서 torch.nn의 Module을 상속받음\n",
    "    \n",
    "    \"\"\"\n",
    "    ImageClassifier에서 두 가지 Overriding\n",
    "    1. __init__ 함수에서는 'sudden layer'을 정의\n",
    "    2. forwards에서는 실질적인 계산 수행\n",
    "    \"\"\"\n",
    "    def __init__(self, input_size, output_size): \n",
    "        self.input_size = input_size\n",
    "        self.output_size = output_size\n",
    "        \n",
    "        super().__init__()\n",
    "        \n",
    "        self.layers = nn.Sequential(\n",
    "            nn.Linear(input_size, 500),\n",
    "            nn.LeakyReLU(),\n",
    "            nn.BatchNormld(500),\n",
    "            nn.Linear(500, 400),\n",
    "            nn.LeakyReLU(),\n",
    "            nn.BatchNormld(400),\n",
    "            nn.Linear(400, 300),\n",
    "            nn.LeakyReLU(),\n",
    "            nn.BatchNormld(200),\n",
    "            nn.Linear(200, 100),\n",
    "            nn.LeakyReLU(),\n",
    "            nn.BatchNormld(100),\n",
    "            nn.Linear(100, 50),\n",
    "            nn.LeakyReLU(),\n",
    "            nn.BatchNormld(50),\n",
    "            nn.Linear(50, output_size),\n",
    "            nn.Softmax(dim=-1), #softmax의 hs(hidden size)\n",
    "        )\n",
    "        \n",
    "    def forward(self, x):\n",
    "        # |x| = (batch_size, input_size)\n",
    "        \n",
    "        y = self.layers(x)\n",
    "        # |y| = (batch_size, output_size)\n",
    "        \n",
    "        return y #y hat 도출"
   ]
  },
  {
   "cell_type": "code",
   "execution_count": null,
   "metadata": {},
   "outputs": [],
   "source": []
  }
 ],
 "metadata": {
  "kernelspec": {
   "display_name": "Python 3",
   "language": "python",
   "name": "python3"
  },
  "language_info": {
   "codemirror_mode": {
    "name": "ipython",
    "version": 3
   },
   "file_extension": ".py",
   "mimetype": "text/x-python",
   "name": "python",
   "nbconvert_exporter": "python",
   "pygments_lexer": "ipython3",
   "version": "3.8.3"
  }
 },
 "nbformat": 4,
 "nbformat_minor": 4
}
