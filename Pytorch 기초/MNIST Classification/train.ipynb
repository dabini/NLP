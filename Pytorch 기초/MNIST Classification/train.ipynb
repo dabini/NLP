{
 "cells": [
  {
   "cell_type": "code",
   "execution_count": 1,
   "metadata": {},
   "outputs": [
    {
     "ename": "ModuleNotFoundError",
     "evalue": "No module named 'model'",
     "output_type": "error",
     "traceback": [
      "\u001b[1;31m---------------------------------------------------------------------------\u001b[0m",
      "\u001b[1;31mModuleNotFoundError\u001b[0m                       Traceback (most recent call last)",
      "\u001b[1;32m<ipython-input-1-75e089380b71>\u001b[0m in \u001b[0;36m<module>\u001b[1;34m\u001b[0m\n\u001b[0;32m      6\u001b[0m \u001b[1;32mimport\u001b[0m \u001b[0mtorch\u001b[0m\u001b[1;33m.\u001b[0m\u001b[0moptim\u001b[0m \u001b[1;32mas\u001b[0m \u001b[0moptim\u001b[0m\u001b[1;33m\u001b[0m\u001b[1;33m\u001b[0m\u001b[0m\n\u001b[0;32m      7\u001b[0m \u001b[1;33m\u001b[0m\u001b[0m\n\u001b[1;32m----> 8\u001b[1;33m \u001b[1;32mfrom\u001b[0m \u001b[0mmodel\u001b[0m \u001b[1;32mimport\u001b[0m \u001b[0mImageClassifier\u001b[0m\u001b[1;33m\u001b[0m\u001b[1;33m\u001b[0m\u001b[0m\n\u001b[0m\u001b[0;32m      9\u001b[0m \u001b[1;32mfrom\u001b[0m \u001b[0mtainer\u001b[0m \u001b[1;32mimport\u001b[0m \u001b[0mTrainer\u001b[0m\u001b[1;33m\u001b[0m\u001b[1;33m\u001b[0m\u001b[0m\n\u001b[0;32m     10\u001b[0m \u001b[1;32mfrom\u001b[0m \u001b[0mutils\u001b[0m \u001b[1;32mimport\u001b[0m \u001b[0mload_mnist\u001b[0m\u001b[1;33m\u001b[0m\u001b[1;33m\u001b[0m\u001b[0m\n",
      "\u001b[1;31mModuleNotFoundError\u001b[0m: No module named 'model'"
     ]
    }
   ],
   "source": [
    "#train.py\n",
    "import argparse\n",
    "\n",
    "import torch\n",
    "import torch.nn as nn\n",
    "import torch.optim as optim\n",
    "\n",
    "from model import ImageClassifier\n",
    "from tainer import Trainer\n",
    "from utils import load_mnist"
   ]
  },
  {
   "cell_type": "code",
   "execution_count": 2,
   "metadata": {},
   "outputs": [
    {
     "name": "stderr",
     "output_type": "stream",
     "text": [
      "usage: ipykernel_launcher.py [-h] --model_fn MODEL_FN [--gpu_id GPU_ID] [--train_ratio TRAIN_RATIO]\n",
      "                             [--batch_size BATCH_SIZE] [--n_epochs N_EPOCHS] [--verbose VERBOSE]\n",
      "ipykernel_launcher.py: error: the following arguments are required: --model_fn\n"
     ]
    },
    {
     "ename": "SystemExit",
     "evalue": "2",
     "output_type": "error",
     "traceback": [
      "An exception has occurred, use %tb to see the full traceback.\n",
      "\u001b[1;31mSystemExit\u001b[0m\u001b[1;31m:\u001b[0m 2\n"
     ]
    },
    {
     "name": "stderr",
     "output_type": "stream",
     "text": [
      "C:\\ProgramData\\Anaconda3\\lib\\site-packages\\IPython\\core\\interactiveshell.py:3351: UserWarning: To exit: use 'exit', 'quit', or Ctrl-D.\n",
      "  warn(\"To exit: use 'exit', 'quit', or Ctrl-D.\", stacklevel=1)\n"
     ]
    }
   ],
   "source": [
    "\n",
    "def define_argparser():\n",
    "    p = argparse.ArgumentParser()\n",
    "    \n",
    "    p.add_argument('--model_fn', required=True)\n",
    "    p.add_argument('--gpu_id', type=int, default=0 if torch.cuda.is_available() else -1)\n",
    "    \n",
    "    p.add_argument('--train_ratio', type=float, default=.8)\n",
    "    \n",
    "    p.add_argument('--batch_size', type=int, default=64)\n",
    "    p.add_argument('--n_epochs', type=int, default=20)\n",
    "    p.add_argument('--verbose', type=int, default=2)\n",
    "    \n",
    "    config = p.parse_args()\n",
    "    \n",
    "    return config\n",
    "\n",
    "\n",
    "def main(config):\n",
    "    # Set device based on user defined configuration\n",
    "    device = torch.device('cpu') if config.gpu_id <0 else torch.device('cuda:%d' % config.gpu_id)\n",
    "    \n",
    "    x, y = load_mnist(is_train=True)\n",
    "    # reshape tensor to chunk of 1-d vectors\n",
    "    x = x.view(x.size(0), -1)\n",
    "    \n",
    "    train_cnt = int(x.size(0) * config.train_rate)\n",
    "    valid_cnt = x.size(0) - train_cnt\n",
    "    \n",
    "    # Shuffle dataset to split into train/valid set\n",
    "    indices = torch.randperm(x.size(0))\n",
    "    x = torch.index_select(\n",
    "        x,\n",
    "        dim=0,\n",
    "        index=indices\n",
    "    ).to(device).split([train_cnt, valid_cnt], dim=0)\n",
    "    y = torch.index_select(\n",
    "        y,\n",
    "        dim=0,\n",
    "        index=indices\n",
    "    ).to(device).split([train_cnt, valid_cnt], dim=0)\n",
    "    \n",
    "    print(\"Train:\", x[0].shape, y[0].shape)\n",
    "    print(\"Valid:\", x[1].sahpe, y[1].shape)\n",
    "    \n",
    "    model = ImageClassifier(28**2, 10).to(device)\n",
    "    optimizer = optim.Adam(model.parameters())\n",
    "    crit = nn.CrossEntropyLoss()\n",
    "    \n",
    "    trainer = Trainer(model, optimizer, crit)\n",
    "    \n",
    "    trainer.train((x[0], y[0]), (x[1], y[1]), config)\n",
    "    \n",
    "    # Save best model weights\n",
    "    # dictionary로 저장\n",
    "    torch.save({\n",
    "        'model' : trainer.model.state_dict(),\n",
    "        'config' : config,\n",
    "    }, config.model_fn)\n",
    "\n",
    "if __name__ == \"__main__\":\n",
    "    config = define_argparser()\n",
    "    main(config)"
   ]
  },
  {
   "cell_type": "code",
   "execution_count": null,
   "metadata": {},
   "outputs": [],
   "source": []
  }
 ],
 "metadata": {
  "kernelspec": {
   "display_name": "Python 3",
   "language": "python",
   "name": "python3"
  },
  "language_info": {
   "codemirror_mode": {
    "name": "ipython",
    "version": 3
   },
   "file_extension": ".py",
   "mimetype": "text/x-python",
   "name": "python",
   "nbconvert_exporter": "python",
   "pygments_lexer": "ipython3",
   "version": "3.8.3"
  }
 },
 "nbformat": 4,
 "nbformat_minor": 4
}
