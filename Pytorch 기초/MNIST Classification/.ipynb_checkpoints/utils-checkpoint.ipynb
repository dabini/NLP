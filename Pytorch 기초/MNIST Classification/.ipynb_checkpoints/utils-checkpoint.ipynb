{
 "cells": [
  {
   "cell_type": "code",
   "execution_count": null,
   "metadata": {},
   "outputs": [],
   "source": [
    "# utils.py\n",
    "# dataloader의 역할\n",
    "\n",
    "def load_mnist(is_train=True, flatten=True):\n",
    "    from torchvision import datasets, transforms\n",
    "    \n",
    "    dataset = datasets.MNIST(\n",
    "    '../data', train=is_train, download=True,\n",
    "    transform=transforms.Compose([\n",
    "        trainsforms.ToTensor(),\n",
    "        ]),\n",
    "    )\n",
    "    \n",
    "    x = dataset.data.float() / 255.\n",
    "    y = dataset.targets\n",
    "    \n",
    "    if flatten:\n",
    "        x = x.view(x.szie(0), -1)\n",
    "        \n",
    "    return x, y"
   ]
  }
 ],
 "metadata": {
  "kernelspec": {
   "display_name": "Python 3",
   "language": "python",
   "name": "python3"
  },
  "language_info": {
   "codemirror_mode": {
    "name": "ipython",
    "version": 3
   },
   "file_extension": ".py",
   "mimetype": "text/x-python",
   "name": "python",
   "nbconvert_exporter": "python",
   "pygments_lexer": "ipython3",
   "version": "3.8.3"
  }
 },
 "nbformat": 4,
 "nbformat_minor": 4
}
